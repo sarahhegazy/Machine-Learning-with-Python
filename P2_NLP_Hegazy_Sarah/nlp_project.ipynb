{
 "cells": [
  {
   "cell_type": "markdown",
   "metadata": {},
   "source": [
    "# Deep Learning for NLP - Project\n",
    "# Sarah Hegazy"
   ]
  },
  {
   "cell_type": "markdown",
   "metadata": {},
   "source": [
    "RULES:\n",
    "\n",
    "* Do not create any additional cell\n",
    "\n",
    "* Fill in the blanks\n",
    "\n",
    "* All cells should be runnable (modulo trivial compatibility bugs that we'd fix)\n",
    "\n",
    "* 4 / 20 points will be allocated to the clarity of your code\n",
    "\n",
    "* Efficient code will have a bonus\n",
    "\n",
    "DELIVERABLE:\n",
    "\n",
    "* this notebook\n",
    "* the predictions of the SST test set\n",
    "\n",
    "DO NOT INCLUDE THE DATASETS IN THE DELIVERABLE.."
   ]
  },
  {
   "cell_type": "code",
   "execution_count": 45,
   "metadata": {},
   "outputs": [],
   "source": [
    "import io\n",
    "import os\n",
    "import numpy as np\n",
    "import scipy"
   ]
  },
  {
   "cell_type": "code",
   "execution_count": 46,
   "metadata": {},
   "outputs": [],
   "source": [
    "PATH_TO_DATA = os.path.normpath(\"C:/Users/hegaz/Documents/Classes/Deep Learning/nlp_project/data/\")"
   ]
  },
  {
   "cell_type": "markdown",
   "metadata": {},
   "source": [
    "# 1) Monolingual (English) word embeddings "
   ]
  },
  {
   "cell_type": "code",
   "execution_count": 47,
   "metadata": {},
   "outputs": [],
   "source": [
    "class Word2vec():\n",
    "    def __init__(self, fname, nmax=100000):\n",
    "        self.load_wordvec(fname, nmax)\n",
    "        self.word2id = dict.fromkeys(self.word2vec.keys())\n",
    "        self.id2word = {v: k for k, v in self.word2id.items()}\n",
    "        self.embeddings = np.array(self.word2vec.values())\n",
    "    \n",
    "    def load_wordvec(self, fname, nmax):\n",
    "        self.word2vec = {}\n",
    "        with io.open(fname, encoding='utf-8') as f:\n",
    "            next(f)\n",
    "            for i, line in enumerate(f):\n",
    "                word, vec = line.split(' ', 1)\n",
    "                self.word2vec[word] = np.fromstring(vec, sep=' ')\n",
    "                if i == (nmax - 1):\n",
    "                    break\n",
    "        print('Loaded %s pretrained word vectors' % (len(self.word2vec)))\n",
    "\n",
    "    def most_similar(self, w, K=5):\n",
    "        # K most similar words: self.score  -  np.argsort \n",
    "        self.similar_scores =[]\n",
    "        \n",
    "        for wrd in self.word2id.keys():\n",
    "            self.similar_scores.append(self.score(wrd,w))\n",
    "        wrd_ind = np.argsort(self.similar_scores)[::-1][1:K+1]\n",
    "        s =[]\n",
    "        for i in wrd_ind:\n",
    "            s.append(list(self.word2id.keys())[i])\n",
    "        return s\n",
    "\n",
    "    def score(self, w1, w2):\n",
    "        # cosine similarity: np.dot  -  np.linalg.norm\n",
    "        w1=self.word2vec[w1]\n",
    "        w2=self.word2vec[w2]\n",
    "        dot_product = np.dot(w1, w2)\n",
    "        norm_1 = np.linalg.norm(w1)\n",
    "        norm_2 = np.linalg.norm(w2)\n",
    "        return (dot_product / (norm_1 * norm_2))"
   ]
  },
  {
   "cell_type": "code",
   "execution_count": 48,
   "metadata": {},
   "outputs": [
    {
     "name": "stdout",
     "output_type": "stream",
     "text": [
      "Loaded 200000 pretrained word vectors\n",
      "cat dog 0.671683666279249\n",
      "dog pet 0.6842064029669219\n",
      "dogs cats 0.7074389328052403\n",
      "paris france 0.7775108541288561\n",
      "germany berlin 0.7420295235998392\n",
      "['cats', 'kitty', 'kitten', 'feline', 'kitties']\n",
      "['dogs', 'puppy', 'Dog', 'doggie', 'canine']\n",
      "['dog', 'pooches', 'Dogs', 'doggies', 'canines']\n",
      "['france', 'Paris', 'parisian', 'london', 'berlin']\n",
      "['austria', 'europe', 'german', 'berlin', 'poland']\n"
     ]
    }
   ],
   "source": [
    "w2v = Word2vec(os.path.join(PATH_TO_DATA, 'crawl-300d-200k.vec'), nmax=250000)\n",
    "\n",
    "# You will be evaluated on the output of the following:\n",
    "for w1, w2 in zip(('cat', 'dog', 'dogs', 'paris', 'germany'), ('dog', 'pet', 'cats', 'france', 'berlin')):\n",
    "    print(w1, w2, w2v.score(w1, w2))\n",
    "for w1 in ['cat', 'dog', 'dogs', 'paris', 'germany']:\n",
    "    print(w2v.most_similar(w1))"
   ]
  },
  {
   "cell_type": "code",
   "execution_count": 49,
   "metadata": {},
   "outputs": [],
   "source": [
    "class BoV():\n",
    "    def __init__(self, w2v):\n",
    "        self.w2v = w2v\n",
    "    \n",
    "    def encode(self, sentences, idf=False):\n",
    "        # takes a list of sentences, outputs a numpy array of sentence embeddings\n",
    "        # see TP1 for help\n",
    "        sentemb = []\n",
    "        \n",
    "        for sent in sentences:\n",
    "            if idf is False:\n",
    "                # mean of word vectors\n",
    "                list_b = []\n",
    "                for w in set(sent.split()):\n",
    "                    list_b.append(self.w2v.word2vec.get(w, np.zeros((300,))))\n",
    "                total = 0\n",
    "                for v in list_b:\n",
    "                    total += v\n",
    "                sentemb.append(total/len(list_b))\n",
    "                \n",
    "            else:\n",
    "                # idf-weighted mean of word vectors\n",
    "                list_b = []\n",
    "                for w in set(sent.split()):\n",
    "                    list_b.append(np.dot(self.w2v.word2vec.get(w, np.zeros((300,))), idf.get(w, 0)))\n",
    "                total = 0\n",
    "                for v in list_b:\n",
    "                    total += v\n",
    "                sentemb.append(total/len(list_b))\n",
    "        return np.vstack(sentemb)\n",
    "\n",
    "    def most_similar(self, s, sentences, idf=False, K=5):\n",
    "        # get most similar sentences and **print** them\n",
    "        keys = self.encode(sentences, idf)\n",
    "        query = self.encode([s], idf)\n",
    "        \n",
    "        list_of_score = np.array([])\n",
    "        \n",
    "        for i in range(len(keys)):\n",
    "            list_of_score = np.concatenate((list_of_score, [self.score(s, sentences[i], idf)]), axis=0)\n",
    "        \n",
    "        sorted_index = np.argsort(-list_of_score)\n",
    "        sim = []\n",
    "        for j in range(1, K+1):\n",
    "            sim.append(sentences[sorted_index[j]])    \n",
    "        return sim\n",
    "\n",
    "    def score(self, s1, s2, idf=False):\n",
    "        # cosine similarity: use   np.dot  and  np.linalg.norm\n",
    "        \n",
    "        e_s1 = self.encode([s1], idf)[0]\n",
    "        e_s2 = self.encode([s2], idf)[0]\n",
    "\n",
    "        \n",
    "        return np.dot(e_s1, e_s2) / (np.linalg.norm(e_s1)*np.linalg.norm(e_s2))\n",
    "    \n",
    "    def build_idf(self, sentences):\n",
    "        # build the idf dictionary: associate each word to its idf value\n",
    "        idf = {}\n",
    "        for sent in sentences:\n",
    "            for w in set(sent.split()):\n",
    "                idf[w] = idf.get(w, 0) + 1\n",
    "        for word in list(idf.keys()):\n",
    "            idf[word] = max(1, np.log10(len(sentences) / (idf[word])))\n",
    "        return idf"
   ]
  },
  {
   "cell_type": "code",
   "execution_count": 50,
   "metadata": {},
   "outputs": [
    {
     "name": "stdout",
     "output_type": "stream",
     "text": [
      "Loaded 5000 pretrained word vectors\n"
     ]
    },
    {
     "name": "stderr",
     "output_type": "stream",
     "text": [
      "C:\\Users\\hegaz\\Anaconda3\\envs\\py35\\lib\\site-packages\\ipykernel_launcher.py:55: RuntimeWarning: invalid value encountered in double_scalars\n"
     ]
    },
    {
     "name": "stdout",
     "output_type": "stream",
     "text": [
      "1 smiling african american boy . \n",
      " ['blond boy waterskiing . \\n', 'a boy surfs . \\n', 'a boy jumps . \\n', 'a boy jumps . \\n', 'a boy screams . \\n']\n",
      "1 man singing and 1 man playing a saxophone in a concert . \n",
      " 10 people venture out to go crosscountry skiing . \n",
      " 0.59267750530178\n",
      "1 smiling african american boy . \n",
      " ['a man rides a 4 wheeler in the desert . \\n', '5 women and 1 man are smiling for the camera . \\n', '3 males and 1 woman enjoying a sporting event \\n', 'a man in black is juggling 3 flamed bottles . \\n', 'a young boy in the water in 2 floating tubes . \\n']\n",
      "1 man singing and 1 man playing a saxophone in a concert . \n",
      " 10 people venture out to go crosscountry skiing . \n",
      " 0.5354923843214624\n"
     ]
    }
   ],
   "source": [
    "\n",
    "w2v = Word2vec(os.path.join(PATH_TO_DATA, 'crawl-300d-200k.vec'), nmax=5000)\n",
    "s2v = BoV(w2v)\n",
    "\n",
    "# Load sentences in \"PATH_TO_DATA/sentences.txt\"\n",
    "with io.open(os.path.join(PATH_TO_DATA, 'sentences.txt'), encoding='utf-8') as f:\n",
    "    sentences = list(f)\n",
    "\n",
    "no_idf = True   \n",
    "\n",
    "# Build idf scores for each word\n",
    "idf = {} if no_idf else s2v.build_idf(sentences)\n",
    "\n",
    "# You will be evaluated on the output of the following:\n",
    "print('' if not sentences else sentences[10], s2v.most_similar('' if not sentences else sentences[10], sentences))  # BoV-mean\n",
    "print('' if not sentences else sentences[7], '' if not sentences else sentences[13], s2v.score('' if not sentences else sentences[7], '' if not sentences else sentences[13]))\n",
    "\n",
    "\n",
    "no_idf = False\n",
    "\n",
    "idf = {} if no_idf else s2v.build_idf(sentences) \n",
    "print('' if not sentences else sentences[10], s2v.most_similar('' if not sentences else sentences[10], sentences, idf))  # BoV-idf\n",
    "print('' if not sentences else sentences[7], '' if not sentences else sentences[13], s2v.score('' if not sentences else sentences[7], '' if not sentences else sentences[13], idf))"
   ]
  },
  {
   "cell_type": "markdown",
   "metadata": {},
   "source": [
    "# 2) Multilingual (English-French) word embeddings"
   ]
  },
  {
   "cell_type": "markdown",
   "metadata": {},
   "source": [
    "Let's consider a bilingual dictionary of size V_a (e.g French-English).\n",
    "\n",
    "Let's define **X** and **Y** the **French** and **English** matrices.\n",
    "\n",
    "They contain the embeddings associated to the words in the bilingual dictionary.\n",
    "\n",
    "We want to find a **mapping W** that will project the source word space (e.g French) to the target word space (e.g English).\n",
    "\n",
    "Procrustes : **W\\* = argmin || W.X - Y ||  s.t  W^T.W = Id**\n",
    "has a closed form solution:\n",
    "**W = U.V^T  where  U.Sig.V^T = SVD(Y.X^T)**\n",
    "\n",
    "In what follows, you are asked to: "
   ]
  },
  {
   "cell_type": "code",
   "execution_count": 11,
   "metadata": {},
   "outputs": [
    {
     "name": "stdout",
     "output_type": "stream",
     "text": [
      "Loaded 50000 pretrained word vectors\n",
      "Loaded 50000 pretrained word vectors\n"
     ]
    }
   ],
   "source": [
    "# 1 - Download and load 50k first vectors of\n",
    "#     https://s3-us-west-1.amazonaws.com/fasttext-vectors/wiki.en.vec\n",
    "#     https://s3-us-west-1.amazonaws.com/fasttext-vectors/wiki.fr.vec\n",
    "\n",
    "# TYPE CODE HERE\n",
    "text_fr = Word2vec(os.path.join(PATH_TO_DATA, 'wiki.fr.vec'), nmax=50000)\n",
    "text_en = Word2vec(os.path.join(PATH_TO_DATA, 'wiki.en.vec'), nmax=50000)"
   ]
  },
  {
   "cell_type": "code",
   "execution_count": 12,
   "metadata": {},
   "outputs": [],
   "source": [
    "# 2 - Get words that appear in both vocabs (= identical character strings)\n",
    "#     Use it to create the matrix X and Y (of aligned embeddings for these words)\n",
    "def identical_words(dict1,dict2):\n",
    "    l_word1 = set(dict1.word2vec.keys())\n",
    "    l_word2 = dict2.word2vec.keys()\n",
    "    return [word for word in l_word2 if word in l_word1]\n",
    "    \n",
    "def matrix(dict_world, list_words):\n",
    "    X = []\n",
    "    for word in list_words:\n",
    "        X.append(dict_world.word2vec[word])\n",
    "    return np.array(X).T\n",
    "\n",
    "list_words = identical_words(text_en, text_fr)\n",
    "X = matrix(text_fr, list_words)\n",
    "Y = matrix(text_en, list_words)"
   ]
  },
  {
   "cell_type": "code",
   "execution_count": 13,
   "metadata": {},
   "outputs": [
    {
     "data": {
      "text/plain": [
       "array([[-0.16472129, -0.02480074,  0.02065991, ..., -0.03685242,\n",
       "         0.01650765, -0.01410498],\n",
       "       [-0.0513787 , -0.03803497,  0.11145456, ..., -0.00428417,\n",
       "        -0.04856031,  0.01366349],\n",
       "       [-0.01016405, -0.07118315, -0.04736305, ...,  0.01406463,\n",
       "        -0.06342835,  0.05156119],\n",
       "       ...,\n",
       "       [ 0.13092349,  0.00226426,  0.03636042, ..., -0.00637256,\n",
       "         0.06492084, -0.00088374],\n",
       "       [ 0.04778835,  0.05628567,  0.01371082, ..., -0.03636385,\n",
       "        -0.03775559,  0.02193114],\n",
       "       [ 0.01460412, -0.09013019, -0.07652912, ..., -0.01826499,\n",
       "        -0.04055227, -0.04305727]])"
      ]
     },
     "execution_count": 13,
     "metadata": {},
     "output_type": "execute_result"
    }
   ],
   "source": [
    "# 3 - Solve the Procrustes using the scipy package and: scipy.linalg.svd() and get the optimal W\n",
    "#     Now W*French_vector is in the same space as English_vector\n",
    "\n",
    "import scipy.linalg as spl\n",
    "\n",
    "# TYPE CODE HERE\n",
    "\n",
    "U,s,Vh = spl.svd(np.dot(Y,X.T))\n",
    "W = np.dot(U,Vh)\n",
    "W"
   ]
  },
  {
   "cell_type": "code",
   "execution_count": 14,
   "metadata": {},
   "outputs": [
    {
     "name": "stdout",
     "output_type": "stream",
     "text": [
      "French 2 English :\n",
      "crevettes ['oysters', 'mussels', 'clams', 'crustaceans', 'mackerel']\n",
      "voiture ['cars', 'limousine', 'suv', 'roadster', 'truck']\n",
      "ciel ['sky', 'skies', 'skyscrapers', 'heavens', 'earth']\n",
      "chaussures ['footwear', 'clothing', 'apparel', 'underwear', 'boots']\n",
      "English 2 French :\n",
      "lion ['léopard', 'éléphant', 'lions', 'elephant', 'griffon']\n",
      "videogame ['vidéoludique', 'playstation', 'gameplay', 'nintendo', 'jeu']\n",
      "friend ['amie', 'friend', 'camarade', 'admirateur', 'confident']\n",
      "bear ['ours', 'grizzly', 'elephant', 'bison', 'badger']\n"
     ]
    }
   ],
   "source": [
    "# 4 - After alignment with W, give examples of English nearest neighbors of some French words (and vice versa)\n",
    "#     You will be evaluated on that part and the code above\n",
    "\n",
    "# translating from french to english \n",
    "print('French 2 English :')\n",
    "for w1 in ['crevettes', 'voiture', 'ciel','chaussures']:\n",
    "    en = np.dot(W,text_fr.word2vec[w1])\n",
    "    text_en.word2vec['added_french_word'] = en\n",
    "    print(w1,text_en.most_similar('added_french_word'))\n",
    "    \n",
    "# Translation from english to french\n",
    "print('English 2 French :')\n",
    "for w1 in ['lion', 'videogame', 'friend', 'bear']:\n",
    "    fr = np.dot(W.T,text_en.word2vec[w1])\n",
    "    text_fr.word2vec['added_english_word'] = fr\n",
    "    print(w1,text_fr.most_similar('added_english_word'))"
   ]
  },
  {
   "cell_type": "markdown",
   "metadata": {},
   "source": [
    "If you want to dive deeper on this subject: https://github.com/facebookresearch/MUSE"
   ]
  },
  {
   "cell_type": "markdown",
   "metadata": {},
   "source": [
    "# 3) Sentence classification with BoV and scikit-learn"
   ]
  },
  {
   "cell_type": "code",
   "execution_count": 35,
   "metadata": {},
   "outputs": [],
   "source": [
    "# 1 - Load train/dev/test of Stanford Sentiment TreeBank (SST)\n",
    "#     (https://nlp.stanford.edu/~socherr/EMNLP2013_RNTN.pdf)\n",
    "\n",
    "# 1 - Load train/dev/test of Stanford Sentiment TreeBank (SST)\n",
    "#     (https://nlp.stanford.edu/~socherr/EMNLP2013_RNTN.pdf)\n",
    "\n",
    "# TYPE CODE HERE\n",
    "\n",
    "def load_file(path):\n",
    "    with open(path, encoding='utf-8') as f:\n",
    "        return f.read()\n",
    "\n",
    "    \n",
    "test_d = load_file('data/SST/stsa.fine.test.X')\n",
    "train_d = load_file('data/SST/stsa.fine.train')\n",
    "dev_d = load_file('data/SST/stsa.fine.dev')"
   ]
  },
  {
   "cell_type": "code",
   "execution_count": 66,
   "metadata": {},
   "outputs": [
    {
     "name": "stdout",
     "output_type": "stream",
     "text": [
      "[4, 1, 1, 2, 3, 2, 3, 3, 1, 4, 1, 1, 3, 1, 1, 4, 3, 3, 1, 4]\n"
     ]
    }
   ],
   "source": [
    "# 2 - Encode sentences with the BoV model above\n",
    "\n",
    "# TYPE CODE HERE\n",
    "idf = s2v.build_idf(train_d.split('\\n')) \n",
    "\n",
    "train = []\n",
    "train_labels = []\n",
    "train_idf = []\n",
    "test = []\n",
    "test_idf = []\n",
    "dev = []\n",
    "dev_labels = []\n",
    "dev_idf = []\n",
    "\n",
    "for d in train_d.split('\\n'):\n",
    "    try:\n",
    "        label = d[0]\n",
    "        sentence = d[2:]\n",
    "\n",
    "        a = s2v.encode([sentence])\n",
    "        train.append(a[0])\n",
    "        train_labels.append(int(label))\n",
    "        a = s2v.encode([sentence], idf)\n",
    "        train_idf.append(a[0])\n",
    "    except:\n",
    "        pass\n",
    "    \n",
    "\n",
    "for d in dev_d.split('\\n'):  \n",
    "    try:\n",
    "        label = d[0]\n",
    "        sentence = d[2:]\n",
    "\n",
    "        a = s2v.encode([sentence])\n",
    "        dev.append(a[0])\n",
    "        dev_labels.append(int(label))\n",
    "        a = s2v.encode([sentence], idf)\n",
    "        dev_idf.append(a[0])\n",
    "    except:\n",
    "        pass\n",
    "    \n",
    "for d in test_d.split('\\n'):\n",
    "    try:\n",
    "        a = s2v.encode([d])\n",
    "        test.append(a[0])\n",
    "        a = s2v.encode([d], idf)\n",
    "        test_idf.append(a[0])\n",
    "    except:\n",
    "        pass\n",
    "\n",
    "print(train_labels[0:20])\n"
   ]
  },
  {
   "cell_type": "code",
   "execution_count": 70,
   "metadata": {},
   "outputs": [
    {
     "name": "stderr",
     "output_type": "stream",
     "text": [
      "C:\\Users\\hegaz\\Anaconda3\\envs\\py35\\lib\\site-packages\\sklearn\\linear_model\\logistic.py:758: ConvergenceWarning: lbfgs failed to converge. Increase the number of iterations.\n",
      "  \"of iterations.\", ConvergenceWarning)\n"
     ]
    },
    {
     "name": "stdout",
     "output_type": "stream",
     "text": [
      "Training set accuracy: 43.21161048689138\n",
      "Development set accuracy: 38.23796548592189\n"
     ]
    },
    {
     "name": "stderr",
     "output_type": "stream",
     "text": [
      "C:\\Users\\hegaz\\Anaconda3\\envs\\py35\\lib\\site-packages\\sklearn\\linear_model\\logistic.py:758: ConvergenceWarning: lbfgs failed to converge. Increase the number of iterations.\n",
      "  \"of iterations.\", ConvergenceWarning)\n"
     ]
    }
   ],
   "source": [
    "# 3 - Learn Logistic Regression on top of sentence embeddings using scikit-learn\n",
    "#     (consider tuning the L2 regularization on the dev set)\n",
    "\n",
    "from sklearn.linear_model import LogisticRegression, LogisticRegressionCV\n",
    "from sklearn.metrics import accuracy_score\n",
    "\n",
    "l_reg = LogisticRegression(random_state=42, solver='lbfgs',\n",
    "                         multi_class='multinomial').fit(train, train_labels)\n",
    "l_reg.fit(train, train_labels)\n",
    "print('Training set accuracy:',(accuracy_score(train_labels, l_reg.predict(train)))*100)\n",
    "print('Development set accuracy:', (accuracy_score(dev_labels, l_reg.predict(dev)))*100)\n",
    "\n"
   ]
  },
  {
   "cell_type": "code",
   "execution_count": 68,
   "metadata": {},
   "outputs": [
    {
     "name": "stdout",
     "output_type": "stream",
     "text": [
      "[1 3 2 1 1]\n"
     ]
    }
   ],
   "source": [
    "# 4 - Produce 2210 predictions for the test set (in the same order). One line = one prediction (=0,1,2,3,4).\n",
    "#     Attach the output file \"logreg_bov_y_test_sst.txt\" to your deliverable.\n",
    "#     You will be evaluated on the results of the test set.\n",
    "\n",
    "predictions = l_reg.predict(test[:2210])\n",
    "\n",
    "print(predictions[:5])\n",
    "with open(\"logreg_bov_y_test_sst.txt\", 'w') as file:\n",
    "    for pred in predictions:\n",
    "        file.write(str(pred) + '\\n')"
   ]
  },
  {
   "cell_type": "code",
   "execution_count": 72,
   "metadata": {
    "scrolled": true
   },
   "outputs": [
    {
     "name": "stderr",
     "output_type": "stream",
     "text": [
      "C:\\Users\\hegaz\\Anaconda3\\envs\\py35\\lib\\site-packages\\sklearn\\linear_model\\sag.py:334: ConvergenceWarning: The max_iter was reached which means the coef_ did not converge\n",
      "  \"the coef_ did not converge\", ConvergenceWarning)\n",
      "C:\\Users\\hegaz\\Anaconda3\\envs\\py35\\lib\\site-packages\\sklearn\\linear_model\\sag.py:334: ConvergenceWarning: The max_iter was reached which means the coef_ did not converge\n",
      "  \"the coef_ did not converge\", ConvergenceWarning)\n",
      "C:\\Users\\hegaz\\Anaconda3\\envs\\py35\\lib\\site-packages\\sklearn\\linear_model\\sag.py:334: ConvergenceWarning: The max_iter was reached which means the coef_ did not converge\n",
      "  \"the coef_ did not converge\", ConvergenceWarning)\n",
      "C:\\Users\\hegaz\\Anaconda3\\envs\\py35\\lib\\site-packages\\sklearn\\linear_model\\sag.py:334: ConvergenceWarning: The max_iter was reached which means the coef_ did not converge\n",
      "  \"the coef_ did not converge\", ConvergenceWarning)\n",
      "C:\\Users\\hegaz\\Anaconda3\\envs\\py35\\lib\\site-packages\\sklearn\\linear_model\\sag.py:334: ConvergenceWarning: The max_iter was reached which means the coef_ did not converge\n",
      "  \"the coef_ did not converge\", ConvergenceWarning)\n",
      "C:\\Users\\hegaz\\Anaconda3\\envs\\py35\\lib\\site-packages\\sklearn\\linear_model\\sag.py:334: ConvergenceWarning: The max_iter was reached which means the coef_ did not converge\n",
      "  \"the coef_ did not converge\", ConvergenceWarning)\n",
      "C:\\Users\\hegaz\\Anaconda3\\envs\\py35\\lib\\site-packages\\sklearn\\linear_model\\sag.py:334: ConvergenceWarning: The max_iter was reached which means the coef_ did not converge\n",
      "  \"the coef_ did not converge\", ConvergenceWarning)\n",
      "C:\\Users\\hegaz\\Anaconda3\\envs\\py35\\lib\\site-packages\\sklearn\\linear_model\\sag.py:334: ConvergenceWarning: The max_iter was reached which means the coef_ did not converge\n",
      "  \"the coef_ did not converge\", ConvergenceWarning)\n",
      "C:\\Users\\hegaz\\Anaconda3\\envs\\py35\\lib\\site-packages\\sklearn\\linear_model\\sag.py:334: ConvergenceWarning: The max_iter was reached which means the coef_ did not converge\n",
      "  \"the coef_ did not converge\", ConvergenceWarning)\n",
      "C:\\Users\\hegaz\\Anaconda3\\envs\\py35\\lib\\site-packages\\sklearn\\linear_model\\sag.py:334: ConvergenceWarning: The max_iter was reached which means the coef_ did not converge\n",
      "  \"the coef_ did not converge\", ConvergenceWarning)\n",
      "C:\\Users\\hegaz\\Anaconda3\\envs\\py35\\lib\\site-packages\\sklearn\\linear_model\\sag.py:334: ConvergenceWarning: The max_iter was reached which means the coef_ did not converge\n",
      "  \"the coef_ did not converge\", ConvergenceWarning)\n",
      "C:\\Users\\hegaz\\Anaconda3\\envs\\py35\\lib\\site-packages\\sklearn\\linear_model\\sag.py:334: ConvergenceWarning: The max_iter was reached which means the coef_ did not converge\n",
      "  \"the coef_ did not converge\", ConvergenceWarning)\n",
      "C:\\Users\\hegaz\\Anaconda3\\envs\\py35\\lib\\site-packages\\sklearn\\linear_model\\sag.py:334: ConvergenceWarning: The max_iter was reached which means the coef_ did not converge\n",
      "  \"the coef_ did not converge\", ConvergenceWarning)\n",
      "C:\\Users\\hegaz\\Anaconda3\\envs\\py35\\lib\\site-packages\\sklearn\\linear_model\\sag.py:334: ConvergenceWarning: The max_iter was reached which means the coef_ did not converge\n",
      "  \"the coef_ did not converge\", ConvergenceWarning)\n",
      "C:\\Users\\hegaz\\Anaconda3\\envs\\py35\\lib\\site-packages\\sklearn\\linear_model\\sag.py:334: ConvergenceWarning: The max_iter was reached which means the coef_ did not converge\n",
      "  \"the coef_ did not converge\", ConvergenceWarning)\n"
     ]
    },
    {
     "name": "stdout",
     "output_type": "stream",
     "text": [
      "Best C: 1.0\n",
      "training set accuracy:  0.43082865168539325\n",
      "development set accuracy:  0.38056312443233425\n"
     ]
    }
   ],
   "source": [
    "# BONUS!\n",
    "# 5 - Try to improve performance with another classifier\n",
    "#     Attach the output file \"XXX_bov_y_test_sst.txt\" to your deliverable (where XXX = the name of the classifier)\n",
    "\n",
    "# TYPE CODE HERE\n",
    "\n",
    "\n",
    "from sklearn.metrics import accuracy_score\n",
    "from sklearn.model_selection import GridSearchCV\n",
    "from sklearn.svm import LinearSVC\n",
    "from sklearn.ensemble import RandomForestClassifier\n",
    "\n",
    "\n",
    "l_reg2 = LogisticRegression(penalty='l2', multi_class='multinomial', solver='sag')\n",
    "\n",
    "# Create regularization hyperparameter space\n",
    "C = np.logspace(0, 3, 5)\n",
    "\n",
    "hyperparameters = dict(C=C)\n",
    "\n",
    "# Create grid search using 5-fold cross validation\n",
    "GS = GridSearchCV(l_reg2, hyperparameters, cv=5, verbose=0)\n",
    "\n",
    "# Grid Search\n",
    "GS.fit(train, train_labels)\n",
    "print('Best C:', GS.best_estimator_.get_params()['C'])\n",
    "\n",
    "print('training set accuracy: ', GS.score(train, train_labels))\n",
    "print('development set accuracy: ', GS.score(dev, dev_labels))\n",
    "\n",
    "with open(\"logreg2_bov_y_test_sst.txt\", 'w') as file:\n",
    "    for pred in predictions:\n",
    "        file.write(str(pred) + '\\n')\n",
    "\n"
   ]
  },
  {
   "cell_type": "markdown",
   "metadata": {},
   "source": [
    "# 4) Sentence classification with LSTMs in Keras"
   ]
  },
  {
   "cell_type": "markdown",
   "metadata": {},
   "source": [
    "## 4.1 - Preprocessing"
   ]
  },
  {
   "cell_type": "code",
   "execution_count": 3,
   "metadata": {},
   "outputs": [
    {
     "name": "stderr",
     "output_type": "stream",
     "text": [
      "Using TensorFlow backend.\n"
     ]
    }
   ],
   "source": [
    "import keras"
   ]
  },
  {
   "cell_type": "code",
   "execution_count": 93,
   "metadata": {},
   "outputs": [],
   "source": [
    "# 1 - Load train/dev/test sets of SST\n",
    "from keras.utils import to_categorical\n",
    "# 1 - Load train/dev/test sets of SST\n",
    "PATH_TO_DATA = \"C:/Users/hegaz/Documents/Classes/Deep Learning/nlp_project/data/SST\"\n",
    "\n",
    "# TYPE CODE HERE\n",
    "def load_dataset(name):\n",
    "    if name == 'stsa.fine.test.X':\n",
    "        return [line.rstrip('\\n') for line in open(os.path.join(PATH_TO_DATA, name))]\n",
    "    else : \n",
    "        s = [line.rstrip('\\n') for line in open(os.path.join(PATH_TO_DATA, name))]\n",
    "        label = np.array([int(sentence[0]) for sentence in s])\n",
    "        sent = [sentence[2:] for sentence in s]\n",
    "        return sent, label\n",
    "\n",
    "\n",
    "# TYPE CODE HERE\n",
    "X_train, Y_train = load_dataset('stsa.fine.train')\n",
    "Y_train = to_categorical(Y_train)\n",
    "X_dev, Y_dev = load_dataset('stsa.fine.dev')\n",
    "Y_dev = to_categorical(Y_dev)\n",
    "X_test = load_dataset('stsa.fine.test.X')"
   ]
  },
  {
   "cell_type": "code",
   "execution_count": 94,
   "metadata": {},
   "outputs": [],
   "source": [
    "# 2 - Transform text to integers using keras.preprocessing.text.one_hot function\n",
    "#     https://keras.io/preprocessing/text/\n",
    "\n",
    "# TYPE CODE HERE\n",
    "\n",
    "def process(sentence_list, vocab_size):\n",
    "    return [keras.preprocessing.text.one_hot(sentence, vocab_size) for sentence in sentence_list]\n",
    "\n",
    "vocab_size = 5000\n",
    "encode_train = process(X_train, vocab_size)\n",
    "encode_dev = process(X_dev, vocab_size)\n",
    "encode_test = process(X_test, vocab_size)"
   ]
  },
  {
   "cell_type": "markdown",
   "metadata": {},
   "source": [
    "**Padding input data**\n",
    "\n",
    "Models in Keras (and elsewhere) take batches of sentences of the same length as input. It is because Deep Learning framework have been designed to handle well Tensors, which are particularly suited for fast computation on the GPU.\n",
    "\n",
    "Since sentences have different sizes, we \"pad\" them. That is, we add dummy \"padding\" tokens so that they all have the same length.\n",
    "\n",
    "The input to a Keras model thus has this size : (batchsize, maxseqlen) where maxseqlen is the maximum length of a sentence in the batch."
   ]
  },
  {
   "cell_type": "code",
   "execution_count": 95,
   "metadata": {},
   "outputs": [],
   "source": [
    "# 3 - Pad your sequences using keras.preprocessing.sequence.pad_sequences\n",
    "#     https://keras.io/preprocessing/sequence/\n",
    "from keras.preprocessing.sequence import pad_sequences\n",
    "X_train = pad_sequences(encode_train)\n",
    "X_dev = pad_sequences(encode_dev)\n",
    "X_test =pad_sequences(encode_test)\n"
   ]
  },
  {
   "cell_type": "markdown",
   "metadata": {},
   "source": [
    "## 4.2 - Design and train your model"
   ]
  },
  {
   "cell_type": "code",
   "execution_count": 96,
   "metadata": {},
   "outputs": [],
   "source": [
    "# 4 - Design your encoder + classifier using keras.layers\n",
    "#     In Keras, Torch and other deep learning framework, we create a \"container\" which is the Sequential() module.\n",
    "#     Then we add components to this contained : the lookuptable, the LSTM, the classifier etc.\n",
    "#     All of these components are contained in the Sequential() and are trained together.\n",
    "\n",
    "\n",
    "# ADAPT CODE BELOW\n",
    "\n",
    "\n",
    "from keras.models import Sequential\n",
    "from keras.layers import Embedding, LSTM, Dense, Activation, Conv1D, MaxPooling1D, Flatten, Dropout,GlobalMaxPooling1D\n",
    "\n",
    "from keras.regularizers import l2, l1\n",
    "\n",
    "embed_dim  = 32  # word embedding dimension\n",
    "nhid       = 128  # number of hidden units in the LSTM\n",
    "vocab_size = 5000 # size of the vocabulary\n",
    "n_classes  = 5\n",
    "\n",
    "model = Sequential()\n",
    "model.add(Embedding(vocab_size, embed_dim))\n",
    "model.add(LSTM(nhid, dropout=0.2, recurrent_dropout=0.2, kernel_regularizer=l2(0.1), recurrent_regularizer=l2(0.1)))\n",
    "model.add(Dense(n_classes, activation='softmax'))\n"
   ]
  },
  {
   "cell_type": "code",
   "execution_count": 97,
   "metadata": {},
   "outputs": [
    {
     "name": "stdout",
     "output_type": "stream",
     "text": [
      "_________________________________________________________________\n",
      "Layer (type)                 Output Shape              Param #   \n",
      "=================================================================\n",
      "embedding_21 (Embedding)     (None, None, 32)          160000    \n",
      "_________________________________________________________________\n",
      "lstm_7 (LSTM)                (None, 128)               82432     \n",
      "_________________________________________________________________\n",
      "dense_43 (Dense)             (None, 5)                 645       \n",
      "=================================================================\n",
      "Total params: 243,077\n",
      "Trainable params: 243,077\n",
      "Non-trainable params: 0\n",
      "_________________________________________________________________\n",
      "None\n"
     ]
    }
   ],
   "source": [
    "# 5 - Define your loss/optimizer/metrics\n",
    "from keras import optimizers\n",
    "# MODIFY CODE BELOW\n",
    "\n",
    "loss_classif     =  'categorical_crossentropy'\n",
    "optimizer        = optimizers.Adam(lr=0.001)\n",
    "metrics_classif  =  ['accuracy']\n",
    "\n",
    "# Observe how easy (but blackboxed) this is in Keras\n",
    "model.compile(loss=loss_classif,\n",
    "              optimizer=optimizer,\n",
    "              metrics=metrics_classif)\n",
    "print(model.summary())"
   ]
  },
  {
   "cell_type": "code",
   "execution_count": 62,
   "metadata": {
    "scrolled": true
   },
   "outputs": [
    {
     "name": "stdout",
     "output_type": "stream",
     "text": [
      "Train on 8544 samples, validate on 1101 samples\n",
      "Epoch 1/6\n",
      "8544/8544 [==============================] - 19s 2ms/step - loss: 3.5285 - acc: 0.2639 - val_loss: 1.5749 - val_acc: 0.2534\n",
      "Epoch 2/6\n",
      "8544/8544 [==============================] - 16s 2ms/step - loss: 1.5696 - acc: 0.2762 - val_loss: 1.5747 - val_acc: 0.2625\n",
      "Epoch 3/6\n",
      "8544/8544 [==============================] - 16s 2ms/step - loss: 1.5697 - acc: 0.2711 - val_loss: 1.5758 - val_acc: 0.2534\n",
      "Epoch 4/6\n",
      "8544/8544 [==============================] - 16s 2ms/step - loss: 1.5664 - acc: 0.3008 - val_loss: 1.5657 - val_acc: 0.3361\n",
      "Epoch 5/6\n",
      "8544/8544 [==============================] - 16s 2ms/step - loss: 1.4837 - acc: 0.3858 - val_loss: 1.4976 - val_acc: 0.3569\n",
      "Epoch 6/6\n",
      "8544/8544 [==============================] - 16s 2ms/step - loss: 1.3632 - acc: 0.4277 - val_loss: 1.4932 - val_acc: 0.3597\n"
     ]
    }
   ],
   "source": [
    "# 6 - Train your model and find the best hyperparameters for your dev set\n",
    "#     you will be evaluated on the quality of your predictions on the test set\n",
    "\n",
    "# ADAPT CODE BELOW\n",
    "# ADAPT CODE BELOW\n",
    "bs = 32\n",
    "n_epochs = 6\n",
    "\n",
    "history = model.fit(X_train, Y_train, batch_size=bs, epochs=n_epochs, validation_data=(X_dev,Y_dev))\n"
   ]
  },
  {
   "cell_type": "code",
   "execution_count": 63,
   "metadata": {},
   "outputs": [
    {
     "data": {
      "image/png": "[encoded data removed]",
      "text/plain": [
       "<Figure size 864x288 with 2 Axes>"
      ]
     },
     "metadata": {
      "needs_background": "light"
     },
     "output_type": "display_data"
    }
   ],
   "source": [
    "# 7 - Generate your predictions on the test set using model.predict(x_test)\n",
    "#     https://keras.io/models/model/\n",
    "#     Log your predictions in a file (one line = one integer: 0,1,2,3,4)\n",
    "#     Attach the output file \"logreg_lstm_y_test_sst.txt\" to your deliverable.\n",
    "\n",
    "# ADAPT CODE BELOW\n",
    "import matplotlib.pyplot as plt\n",
    "plt.figure(figsize=(12,4))\n",
    "plt.subplot(1,2,1)\n",
    "plt.plot(history.history[\"acc\"], label=\"Training Set Accuracy\")\n",
    "plt.plot(history.history[\"val_acc\"], label=\"Dev Set Accuracy\")\n",
    "plt.legend()\n",
    "plt.xlabel(\"Epoch\")\n",
    "plt.ylabel(\"Accuracy\")\n",
    "plt.subplot(1,2,2)\n",
    "plt.plot(history.history[\"loss\"], label=\"Training Set Loss\")\n",
    "plt.plot(history.history[\"val_loss\"], label=\"Dev Set Loss\")\n",
    "plt.legend()\n",
    "plt.xlabel(\"Epoch\")\n",
    "plt.ylabel(\"Loss\")\n",
    "plt.show()\n",
    "\n",
    "y_test_pred = model.predict(X_test)\n",
    "text_to_write = \"\\n\".join(y_test_pred.max(axis=1).astype(str))\n",
    "f = open(\"logreg_lstm_y_test_sst.txt\", \"w\")\n",
    "f.write(text_to_write)\n",
    "f.close()"
   ]
  },
  {
   "cell_type": "markdown",
   "metadata": {},
   "source": [
    "## 4.3 -- innovate !"
   ]
  },
  {
   "cell_type": "code",
   "execution_count": 106,
   "metadata": {},
   "outputs": [
    {
     "name": "stdout",
     "output_type": "stream",
     "text": [
      "_________________________________________________________________\n",
      "Layer (type)                 Output Shape              Param #   \n",
      "=================================================================\n",
      "embedding_28 (Embedding)     (None, None, 32)          160000    \n",
      "_________________________________________________________________\n",
      "conv1d_33 (Conv1D)           (None, None, 32)          5152      \n",
      "_________________________________________________________________\n",
      "conv1d_34 (Conv1D)           (None, None, 32)          5152      \n",
      "_________________________________________________________________\n",
      "global_max_pooling1d_17 (Glo (None, 32)                0         \n",
      "_________________________________________________________________\n",
      "dense_58 (Dense)             (None, 5)                 165       \n",
      "_________________________________________________________________\n",
      "dense_59 (Dense)             (None, 5)                 30        \n",
      "_________________________________________________________________\n",
      "dense_60 (Dense)             (None, 5)                 30        \n",
      "=================================================================\n",
      "Total params: 170,529\n",
      "Trainable params: 170,529\n",
      "Non-trainable params: 0\n",
      "_________________________________________________________________\n",
      "None\n",
      "Train on 8544 samples, validate on 1101 samples\n",
      "Epoch 1/6\n",
      "8544/8544 [==============================] - 3s 336us/step - loss: 1.5728 - acc: 0.2684 - val_loss: 1.5720 - val_acc: 0.2534\n",
      "Epoch 2/6\n",
      "8544/8544 [==============================] - 2s 212us/step - loss: 1.5653 - acc: 0.2711 - val_loss: 1.5650 - val_acc: 0.2534\n",
      "Epoch 3/6\n",
      "8544/8544 [==============================] - 2s 273us/step - loss: 1.5229 - acc: 0.3346 - val_loss: 1.4904 - val_acc: 0.3733\n",
      "Epoch 4/6\n",
      "8544/8544 [==============================] - 2s 280us/step - loss: 1.4106 - acc: 0.4070 - val_loss: 1.4333 - val_acc: 0.3878\n",
      "Epoch 5/6\n",
      "8544/8544 [==============================] - 2s 281us/step - loss: 1.3101 - acc: 0.4490 - val_loss: 1.4212 - val_acc: 0.3815\n",
      "Epoch 6/6\n",
      "8544/8544 [==============================] - 2s 284us/step - loss: 1.2300 - acc: 0.4854 - val_loss: 1.4302 - val_acc: 0.3824\n"
     ]
    }
   ],
   "source": [
    "# 8 - Open question: find a model that is better on your dev set\n",
    "#     (e.g: use a 1D ConvNet, use a better classifier, pretrain your lookup tables ..)\n",
    "#     you will get point if the results on the test set are better: be careful of not overfitting your dev set too much..\n",
    "#     Attach the output file \"XXX_XXX_y_test_sst.txt\" to your deliverable.\n",
    "\n",
    "embed_dim  = 32      # word embedding dimension\n",
    "vocab_size = 5000  # size of the vocabulary\n",
    "n_classes  = 5\n",
    "\n",
    "model = Sequential()\n",
    "model.add(Embedding(vocab_size, embed_dim))\n",
    "model.add(Conv1D(32, 5, activation='relu', padding='same'))\n",
    "model.add(Conv1D(32, 5, activation=\"relu\"))\n",
    "model.add(GlobalMaxPooling1D())\n",
    "model.add(Dense(n_classes, activation='sigmoid'))\n",
    "model.add(Dense(n_classes, activation='relu'))\n",
    "model.add(Dense(n_classes, activation='softmax'))\n",
    "\n",
    "model.compile(loss=loss_classif,optimizer='rmsprop',metrics=metrics_classif)\n",
    "print(model.summary())\n",
    "\n",
    "bs = 32\n",
    "n_epochs = 6\n",
    "\n",
    "history = model.fit(X_train, Y_train, batch_size=bs, epochs=n_epochs, validation_data=(X_dev, Y_dev))\n"
   ]
  },
  {
   "cell_type": "code",
   "execution_count": 100,
   "metadata": {},
   "outputs": [
    {
     "data": {
      "image/png": "[encoded data removed]",
      "text/plain": [
       "<Figure size 864x288 with 2 Axes>"
      ]
     },
     "metadata": {
      "needs_background": "light"
     },
     "output_type": "display_data"
    }
   ],
   "source": [
    "# plot and save y_test\n",
    "\n",
    "y_test_pred = model.predict(X_test)\n",
    "text_to_write = \"\\n\".join(y_test_pred.max(axis=1).astype(str))\n",
    "f = open(\"logreginnovate_lstm_y_test_sst.txt\", \"w\")\n",
    "f.write(text_to_write)\n",
    "f.close()\n",
    "\n",
    "plt.figure(figsize=(12,4))\n",
    "plt.subplot(1,2,1)\n",
    "plt.plot(history.history[\"acc\"], label=\"Training Set Accuracy\")\n",
    "plt.plot(history.history[\"val_acc\"], label=\"Dev Set Accuracy\")\n",
    "plt.legend()\n",
    "plt.xlabel(\"Epoch\")\n",
    "plt.ylabel(\"Accuracy\")\n",
    "plt.subplot(1,2,2)\n",
    "plt.plot(history.history[\"loss\"], label=\"Training Set Loss\")\n",
    "plt.plot(history.history[\"val_loss\"], label=\"Dev Set Loss\")\n",
    "plt.legend()\n",
    "plt.xlabel(\"Epoch\")\n",
    "plt.ylabel(\"Loss\")\n",
    "plt.show()"
   ]
  }
 ],
 "metadata": {
  "kernelspec": {
   "display_name": "Python 3",
   "language": "python",
   "name": "python3"
  },
  "language_info": {
   "codemirror_mode": {
    "name": "ipython",
    "version": 3
   },
   "file_extension": ".py",
   "mimetype": "text/x-python",
   "name": "python",
   "nbconvert_exporter": "python",
   "pygments_lexer": "ipython3",
   "version": "3.6.7"
  }
 },
 "nbformat": 4,
 "nbformat_minor": 1
}
